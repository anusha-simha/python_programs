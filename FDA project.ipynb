{
 "cells": [
  {
   "cell_type": "code",
   "execution_count": null,
   "id": "bab23a05",
   "metadata": {},
   "outputs": [],
   "source": [
    "Q1)Write a Python program to convert a Pandas module Series to a Python list and also state it's type"
   ]
  },
  {
   "cell_type": "code",
   "execution_count": 1,
   "id": "ca200d5b",
   "metadata": {},
   "outputs": [
    {
     "name": "stdout",
     "output_type": "stream",
     "text": [
      "Type of the converted list: <class 'list'>\n",
      "Converted Python list: [10, 20, 30]\n"
     ]
    }
   ],
   "source": [
    "import pandas as pd\n",
    "\n",
    "data = {'A': 10, 'B': 20, 'C': 30}\n",
    "series = pd.Series(data)\n",
    "\n",
    "\n",
    "python_list = series.tolist()\n",
    "\n",
    "\n",
    "print(\"Type of the converted list:\", type(python_list))\n",
    "print(\"Converted Python list:\", python_list)\n"
   ]
  },
  {
   "cell_type": "code",
   "execution_count": null,
   "id": "9639c3bc",
   "metadata": {},
   "outputs": [],
   "source": [
    "Q2)Write a Python program to select the 'name' and 'score' columns from the following DataFrame.\n",
    "   Sample Python dictionary data and list labels:\n",
    "   exam_data = {'name': ['Anastasia', 'Dima', 'Katherine', 'James', 'Emily', 'Michael', 'Matthew', 'Laura', 'Kevin', 'Jonas'],\n",
    "                'score': [12.5, 9, 16.5, np.nan, 9, 20, 14.5, np.nan, 8, 19],\n",
    "                'attempts': [1, 3, 2, 3, 2, 3, 1, 1, 2, 1],\n",
    "                'qualify': ['yes', 'no', 'yes', 'no', 'no', 'yes', 'yes', 'no', 'no', 'yes']}\n",
    "   labels = ['a', 'b', 'c', 'd', 'e', 'f', 'g', 'h', 'i', 'j']"
   ]
  },
  {
   "cell_type": "code",
   "execution_count": 2,
   "id": "e8e87bc6",
   "metadata": {},
   "outputs": [
    {
     "name": "stdout",
     "output_type": "stream",
     "text": [
      "Selected Columns:\n",
      "        name  score\n",
      "a  Anastasia   12.5\n",
      "b       Dima    9.0\n",
      "c  Katherine   16.5\n",
      "d      James    NaN\n",
      "e      Emily    9.0\n",
      "f    Michael   20.0\n",
      "g    Matthew   14.5\n",
      "h      Laura    NaN\n",
      "i      Kevin    8.0\n",
      "j      Jonas   19.0\n"
     ]
    }
   ],
   "source": [
    "import pandas as pd\n",
    "import numpy as np\n",
    "\n",
    "exam_data = {\n",
    "    'name': ['Anastasia', 'Dima', 'Katherine', 'James', 'Emily', 'Michael', 'Matthew', 'Laura', 'Kevin', 'Jonas'],\n",
    "    'score': [12.5, 9, 16.5, np.nan, 9, 20, 14.5, np.nan, 8, 19],\n",
    "    'attempts': [1, 3, 2, 3, 2, 3, 1, 1, 2, 1],\n",
    "    'qualify': ['yes', 'no', 'yes', 'no', 'no', 'yes', 'yes', 'no', 'no', 'yes']\n",
    "}\n",
    "labels = ['a', 'b', 'c', 'd', 'e', 'f', 'g', 'h', 'i', 'j']\n",
    "\n",
    "df = pd.DataFrame(exam_data, index=labels)\n",
    "\n",
    "selected_columns = df[['name', 'score']]\n",
    "\n",
    "print(\"Selected Columns:\")\n",
    "print(selected_columns)\n"
   ]
  },
  {
   "cell_type": "code",
   "execution_count": null,
   "id": "0ba47969",
   "metadata": {},
   "outputs": [],
   "source": [
    "Q3)Write a Python program to select the rows where the score is missing, i.e. is NaN.\n",
    "   Sample Python dictionary data and list labels:\n",
    "   exam_data = {'name': ['Anastasia', 'Dima', 'Katherine', 'James', 'Emily', 'Michael', 'Matthew', 'Laura', 'Kevin', 'Jonas'],\n",
    "                'score': [12.5, 9, 16.5, np.nan, 9, 20, 14.5, np.nan, 8, 19],\n",
    "                'attempts': [1, 3, 2, 3, 2, 3, 1, 1, 2, 1],\n",
    "                'qualify': ['yes', 'no', 'yes', 'no', 'no', 'yes', 'yes', 'no', 'no', 'yes']}\n",
    "   labels = ['a', 'b', 'c', 'd', 'e', 'f', 'g', 'h', 'i', 'j']"
   ]
  },
  {
   "cell_type": "code",
   "execution_count": 3,
   "id": "1055b3f5",
   "metadata": {},
   "outputs": [
    {
     "name": "stdout",
     "output_type": "stream",
     "text": [
      "Rows with Missing Scores:\n",
      "    name  score  attempts qualify\n",
      "d  James    NaN         3      no\n",
      "h  Laura    NaN         1      no\n"
     ]
    }
   ],
   "source": [
    "import pandas as pd\n",
    "import numpy as np\n",
    "\n",
    "exam_data = {\n",
    "    'name': ['Anastasia', 'Dima', 'Katherine', 'James', 'Emily', 'Michael', 'Matthew', 'Laura', 'Kevin', 'Jonas'],\n",
    "    'score': [12.5, 9, 16.5, np.nan, 9, 20, 14.5, np.nan, 8, 19],\n",
    "    'attempts': [1, 3, 2, 3, 2, 3, 1, 1, 2, 1],\n",
    "    'qualify': ['yes', 'no', 'yes', 'no', 'no', 'yes', 'yes', 'no', 'no', 'yes']\n",
    "}\n",
    "labels = ['a', 'b', 'c', 'd', 'e', 'f', 'g', 'h', 'i', 'j']\n",
    "\n",
    "df = pd.DataFrame(exam_data, index=labels)\n",
    "\n",
    "missing_score_rows = df[df['score'].isna()]\n",
    "\n",
    "print(\"Rows with Missing Scores:\")\n",
    "print(missing_score_rows)\n"
   ]
  },
  {
   "cell_type": "markdown",
   "id": "1289264e",
   "metadata": {},
   "source": [
    "Q4)Write a python program to split the string column to form a DataFrame with 3 columns.\n",
    "    Sample Input:\n",
    "    df = pd.DataFrame([\"STD, City    State\",\n",
    "    \"33, Kolkata    West Bengal\",\n",
    "    \"44, Chennai    Tamil Nadu\",\n",
    "    \"40, Hyderabad    Telengana\",\n",
    "    \"80, Bangalore    Karnataka\"], columns=['row'])\n",
    "    \n",
    "    Expected Output:\n",
    "    0 STD        City        State\n",
    "    1  33     Kolkata  West Bengal\n",
    "    2  44     Chennai   Tamil Nadu\n",
    "    3  40   Hyderabad    Telengana\n",
    "    4  80   Bangalore    Karnataka"
   ]
  },
  {
   "cell_type": "code",
   "execution_count": 5,
   "id": "f0d2af22",
   "metadata": {},
   "outputs": [
    {
     "name": "stdout",
     "output_type": "stream",
     "text": [
      "   STD       City        State\n",
      "0  STD       City        State\n",
      "1   33    Kolkata  West Bengal\n",
      "2   44    Chennai   Tamil Nadu\n",
      "3   40  Hyderabad    Telengana\n",
      "4   80  Bangalore    Karnataka\n"
     ]
    }
   ],
   "source": [
    "import pandas as pd\n",
    "\n",
    "df = pd.DataFrame([\"STD, City    State\",\n",
    "                   \"33, Kolkata    West Bengal\",\n",
    "                   \"44, Chennai    Tamil Nadu\",\n",
    "                   \"40, Hyderabad    Telengana\",\n",
    "                   \"80, Bangalore    Karnataka\"],\n",
    "                  columns=['row'])\n",
    "\n",
    "split_data = df['row'].str.split(', | {4}', expand=True)\n",
    "\n",
    "split_data.columns = ['STD', 'City', 'State']\n",
    "\n",
    "print(split_data)\n"
   ]
  },
  {
   "cell_type": "code",
   "execution_count": null,
   "id": "71816808",
   "metadata": {},
   "outputs": [],
   "source": [
    "Write a python program to find the second largest value of 'taste' for 'banana' in the given DataFrame.\n",
    "    Input:\n",
    "    df = pd.DataFrame({'fruit': ['apple', 'banana', 'orange'] * 3,\n",
    "                   'rating': np.random.rand(9),\n",
    "                   'price': np.random.randint(0, 15, 9)})\n",
    "    "
   ]
  },
  {
   "cell_type": "code",
   "execution_count": 7,
   "id": "f6ae02a9",
   "metadata": {},
   "outputs": [
    {
     "name": "stdout",
     "output_type": "stream",
     "text": [
      "Second Largest 'taste' for 'banana': 0.33941527055024945\n"
     ]
    }
   ],
   "source": [
    "import pandas as pd\n",
    "import numpy as np\n",
    "\n",
    "df = pd.DataFrame({'fruit': ['apple', 'banana', 'orange'] * 3,\n",
    "                   'rating': np.random.rand(9),\n",
    "                   'price': np.random.randint(0, 15, 9)})\n",
    "\n",
    "banana_rows = df[df['fruit'] == 'banana']\n",
    "\n",
    "sorted_ratings = banana_rows['rating'].sort_values(ascending=False)\n",
    "\n",
    "second_largest = sorted_ratings.iloc[1]\n",
    "\n",
    "print(\"Second Largest 'taste' for 'banana':\", second_largest)\n"
   ]
  },
  {
   "cell_type": "code",
   "execution_count": null,
   "id": "bb667915",
   "metadata": {},
   "outputs": [],
   "source": []
  }
 ],
 "metadata": {
  "kernelspec": {
   "display_name": "Python 3 (ipykernel)",
   "language": "python",
   "name": "python3"
  },
  "language_info": {
   "codemirror_mode": {
    "name": "ipython",
    "version": 3
   },
   "file_extension": ".py",
   "mimetype": "text/x-python",
   "name": "python",
   "nbconvert_exporter": "python",
   "pygments_lexer": "ipython3",
   "version": "3.11.3"
  }
 },
 "nbformat": 4,
 "nbformat_minor": 5
}
